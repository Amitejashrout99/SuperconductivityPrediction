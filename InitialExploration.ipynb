{
  "nbformat": 4,
  "nbformat_minor": 0,
  "metadata": {
    "colab": {
      "provenance": [],
      "authorship_tag": "ABX9TyPHZ1UEZNv4bGX73TodhNNZ",
      "include_colab_link": true
    },
    "kernelspec": {
      "name": "python3",
      "display_name": "Python 3"
    },
    "language_info": {
      "name": "python"
    }
  },
  "cells": [
    {
      "cell_type": "markdown",
      "metadata": {
        "id": "view-in-github",
        "colab_type": "text"
      },
      "source": [
        "<a href=\"https://colab.research.google.com/github/Amitejashrout99/SuperconductivityPrediction/blob/main/InitialExploration.ipynb\" target=\"_parent\"><img src=\"https://colab.research.google.com/assets/colab-badge.svg\" alt=\"Open In Colab\"/></a>"
      ]
    },
    {
      "cell_type": "code",
      "execution_count": 44,
      "metadata": {
        "colab": {
          "base_uri": "https://localhost:8080/"
        },
        "id": "jc493GSuCbYg",
        "outputId": "34e041d5-7332-4881-8843-afad86e14e39"
      },
      "outputs": [
        {
          "output_type": "stream",
          "name": "stdout",
          "text": [
            "Drive already mounted at /content/drive; to attempt to forcibly remount, call drive.mount(\"/content/drive\", force_remount=True).\n"
          ]
        }
      ],
      "source": [
        "from google.colab import drive\n",
        "drive.mount('/content/drive')"
      ]
    },
    {
      "cell_type": "code",
      "source": [
        "! ls drive/MyDrive/ProjectDataset/\n",
        "folder_path = \"drive/MyDrive/ProjectDataset/\"\n",
        "training_file_path = \"drive/MyDrive/ProjectDataset/train.csv\"\n",
        "#printing the training file path\n",
        "print( f\"The training file path is { training_file_path }\" )"
      ],
      "metadata": {
        "colab": {
          "base_uri": "https://localhost:8080/"
        },
        "id": "L-Y7Leq6EpDz",
        "outputId": "a1d3e917-2bf2-4490-a9a5-0d8106f667b5"
      },
      "execution_count": 45,
      "outputs": [
        {
          "output_type": "stream",
          "name": "stdout",
          "text": [
            "train.csv  unique_m.csv\n",
            "The training file path is drive/MyDrive/ProjectDataset/train.csv\n"
          ]
        }
      ]
    },
    {
      "cell_type": "markdown",
      "source": [
        "Importing the necessary libraries"
      ],
      "metadata": {
        "id": "ybUOt2tvFXTM"
      }
    },
    {
      "cell_type": "code",
      "source": [
        "import pandas as pd\n",
        "import numpy as np\n",
        "import seaborn as sns\n",
        "import matplotlib.pyplot as plt\n",
        "from scipy import stats\n",
        "#Importing the library which calculates the VIF for the relevant columns\n",
        "from statsmodels.stats.outliers_influence import variance_inflation_factor\n",
        "from statsmodels.tools.tools import add_constant\n",
        "from sklearn.model_selection import train_test_split\n",
        "from sklearn.linear_model import LinearRegression\n",
        "#Import scikit-learn metrics module for accuracy calculation\n",
        "from sklearn import metrics"
      ],
      "metadata": {
        "id": "KDo8SqjcFWEm"
      },
      "execution_count": 90,
      "outputs": []
    },
    {
      "cell_type": "code",
      "source": [
        "#Loading the training dataset\n",
        "atomic_properties_df = pd.read_csv( filepath_or_buffer= training_file_path  )\n",
        "#Printing the dataframe\n",
        "print( atomic_properties_df.head() )\n",
        "#Looks like there are 82 properties"
      ],
      "metadata": {
        "colab": {
          "base_uri": "https://localhost:8080/"
        },
        "id": "NbATYtwzFy0Y",
        "outputId": "3adb8464-20cd-4b65-b4a1-93053b40228b"
      },
      "execution_count": 47,
      "outputs": [
        {
          "output_type": "stream",
          "name": "stdout",
          "text": [
            "   number_of_elements  mean_atomic_mass  wtd_mean_atomic_mass  \\\n",
            "0                   4         88.944468             57.862692   \n",
            "1                   5         92.729214             58.518416   \n",
            "2                   4         88.944468             57.885242   \n",
            "3                   4         88.944468             57.873967   \n",
            "4                   4         88.944468             57.840143   \n",
            "\n",
            "   gmean_atomic_mass  wtd_gmean_atomic_mass  entropy_atomic_mass  \\\n",
            "0          66.361592              36.116612             1.181795   \n",
            "1          73.132787              36.396602             1.449309   \n",
            "2          66.361592              36.122509             1.181795   \n",
            "3          66.361592              36.119560             1.181795   \n",
            "4          66.361592              36.110716             1.181795   \n",
            "\n",
            "   wtd_entropy_atomic_mass  range_atomic_mass  wtd_range_atomic_mass  \\\n",
            "0                 1.062396          122.90607              31.794921   \n",
            "1                 1.057755          122.90607              36.161939   \n",
            "2                 0.975980          122.90607              35.741099   \n",
            "3                 1.022291          122.90607              33.768010   \n",
            "4                 1.129224          122.90607              27.848743   \n",
            "\n",
            "   std_atomic_mass  ...  wtd_mean_Valence  gmean_Valence  wtd_gmean_Valence  \\\n",
            "0        51.968828  ...          2.257143       2.213364           2.219783   \n",
            "1        47.094633  ...          2.257143       1.888175           2.210679   \n",
            "2        51.968828  ...          2.271429       2.213364           2.232679   \n",
            "3        51.968828  ...          2.264286       2.213364           2.226222   \n",
            "4        51.968828  ...          2.242857       2.213364           2.206963   \n",
            "\n",
            "   entropy_Valence  wtd_entropy_Valence  range_Valence  wtd_range_Valence  \\\n",
            "0         1.368922             1.066221              1           1.085714   \n",
            "1         1.557113             1.047221              2           1.128571   \n",
            "2         1.368922             1.029175              1           1.114286   \n",
            "3         1.368922             1.048834              1           1.100000   \n",
            "4         1.368922             1.096052              1           1.057143   \n",
            "\n",
            "   std_Valence  wtd_std_Valence  critical_temp  \n",
            "0     0.433013         0.437059           29.0  \n",
            "1     0.632456         0.468606           26.0  \n",
            "2     0.433013         0.444697           19.0  \n",
            "3     0.433013         0.440952           22.0  \n",
            "4     0.433013         0.428809           23.0  \n",
            "\n",
            "[5 rows x 82 columns]\n"
          ]
        }
      ]
    },
    {
      "cell_type": "code",
      "source": [
        "#Printing the dataframe properties\n",
        "print( atomic_properties_df.info() )"
      ],
      "metadata": {
        "colab": {
          "base_uri": "https://localhost:8080/"
        },
        "id": "VfYuuEuSH2Nx",
        "outputId": "9d5f76f7-3361-4b28-a11a-82c788acfdd5"
      },
      "execution_count": 48,
      "outputs": [
        {
          "output_type": "stream",
          "name": "stdout",
          "text": [
            "<class 'pandas.core.frame.DataFrame'>\n",
            "RangeIndex: 21263 entries, 0 to 21262\n",
            "Data columns (total 82 columns):\n",
            " #   Column                           Non-Null Count  Dtype  \n",
            "---  ------                           --------------  -----  \n",
            " 0   number_of_elements               21263 non-null  int64  \n",
            " 1   mean_atomic_mass                 21263 non-null  float64\n",
            " 2   wtd_mean_atomic_mass             21263 non-null  float64\n",
            " 3   gmean_atomic_mass                21263 non-null  float64\n",
            " 4   wtd_gmean_atomic_mass            21263 non-null  float64\n",
            " 5   entropy_atomic_mass              21263 non-null  float64\n",
            " 6   wtd_entropy_atomic_mass          21263 non-null  float64\n",
            " 7   range_atomic_mass                21263 non-null  float64\n",
            " 8   wtd_range_atomic_mass            21263 non-null  float64\n",
            " 9   std_atomic_mass                  21263 non-null  float64\n",
            " 10  wtd_std_atomic_mass              21263 non-null  float64\n",
            " 11  mean_fie                         21263 non-null  float64\n",
            " 12  wtd_mean_fie                     21263 non-null  float64\n",
            " 13  gmean_fie                        21263 non-null  float64\n",
            " 14  wtd_gmean_fie                    21263 non-null  float64\n",
            " 15  entropy_fie                      21263 non-null  float64\n",
            " 16  wtd_entropy_fie                  21263 non-null  float64\n",
            " 17  range_fie                        21263 non-null  float64\n",
            " 18  wtd_range_fie                    21263 non-null  float64\n",
            " 19  std_fie                          21263 non-null  float64\n",
            " 20  wtd_std_fie                      21263 non-null  float64\n",
            " 21  mean_atomic_radius               21263 non-null  float64\n",
            " 22  wtd_mean_atomic_radius           21263 non-null  float64\n",
            " 23  gmean_atomic_radius              21263 non-null  float64\n",
            " 24  wtd_gmean_atomic_radius          21263 non-null  float64\n",
            " 25  entropy_atomic_radius            21263 non-null  float64\n",
            " 26  wtd_entropy_atomic_radius        21263 non-null  float64\n",
            " 27  range_atomic_radius              21263 non-null  int64  \n",
            " 28  wtd_range_atomic_radius          21263 non-null  float64\n",
            " 29  std_atomic_radius                21263 non-null  float64\n",
            " 30  wtd_std_atomic_radius            21263 non-null  float64\n",
            " 31  mean_Density                     21263 non-null  float64\n",
            " 32  wtd_mean_Density                 21263 non-null  float64\n",
            " 33  gmean_Density                    21263 non-null  float64\n",
            " 34  wtd_gmean_Density                21263 non-null  float64\n",
            " 35  entropy_Density                  21263 non-null  float64\n",
            " 36  wtd_entropy_Density              21263 non-null  float64\n",
            " 37  range_Density                    21263 non-null  float64\n",
            " 38  wtd_range_Density                21263 non-null  float64\n",
            " 39  std_Density                      21263 non-null  float64\n",
            " 40  wtd_std_Density                  21263 non-null  float64\n",
            " 41  mean_ElectronAffinity            21263 non-null  float64\n",
            " 42  wtd_mean_ElectronAffinity        21263 non-null  float64\n",
            " 43  gmean_ElectronAffinity           21263 non-null  float64\n",
            " 44  wtd_gmean_ElectronAffinity       21263 non-null  float64\n",
            " 45  entropy_ElectronAffinity         21263 non-null  float64\n",
            " 46  wtd_entropy_ElectronAffinity     21263 non-null  float64\n",
            " 47  range_ElectronAffinity           21263 non-null  float64\n",
            " 48  wtd_range_ElectronAffinity       21263 non-null  float64\n",
            " 49  std_ElectronAffinity             21263 non-null  float64\n",
            " 50  wtd_std_ElectronAffinity         21263 non-null  float64\n",
            " 51  mean_FusionHeat                  21263 non-null  float64\n",
            " 52  wtd_mean_FusionHeat              21263 non-null  float64\n",
            " 53  gmean_FusionHeat                 21263 non-null  float64\n",
            " 54  wtd_gmean_FusionHeat             21263 non-null  float64\n",
            " 55  entropy_FusionHeat               21263 non-null  float64\n",
            " 56  wtd_entropy_FusionHeat           21263 non-null  float64\n",
            " 57  range_FusionHeat                 21263 non-null  float64\n",
            " 58  wtd_range_FusionHeat             21263 non-null  float64\n",
            " 59  std_FusionHeat                   21263 non-null  float64\n",
            " 60  wtd_std_FusionHeat               21263 non-null  float64\n",
            " 61  mean_ThermalConductivity         21263 non-null  float64\n",
            " 62  wtd_mean_ThermalConductivity     21263 non-null  float64\n",
            " 63  gmean_ThermalConductivity        21263 non-null  float64\n",
            " 64  wtd_gmean_ThermalConductivity    21263 non-null  float64\n",
            " 65  entropy_ThermalConductivity      21263 non-null  float64\n",
            " 66  wtd_entropy_ThermalConductivity  21263 non-null  float64\n",
            " 67  range_ThermalConductivity        21263 non-null  float64\n",
            " 68  wtd_range_ThermalConductivity    21263 non-null  float64\n",
            " 69  std_ThermalConductivity          21263 non-null  float64\n",
            " 70  wtd_std_ThermalConductivity      21263 non-null  float64\n",
            " 71  mean_Valence                     21263 non-null  float64\n",
            " 72  wtd_mean_Valence                 21263 non-null  float64\n",
            " 73  gmean_Valence                    21263 non-null  float64\n",
            " 74  wtd_gmean_Valence                21263 non-null  float64\n",
            " 75  entropy_Valence                  21263 non-null  float64\n",
            " 76  wtd_entropy_Valence              21263 non-null  float64\n",
            " 77  range_Valence                    21263 non-null  int64  \n",
            " 78  wtd_range_Valence                21263 non-null  float64\n",
            " 79  std_Valence                      21263 non-null  float64\n",
            " 80  wtd_std_Valence                  21263 non-null  float64\n",
            " 81  critical_temp                    21263 non-null  float64\n",
            "dtypes: float64(79), int64(3)\n",
            "memory usage: 13.3 MB\n",
            "None\n"
          ]
        }
      ]
    },
    {
      "cell_type": "code",
      "source": [
        "#Getting the co-relation matrix\n",
        "atomic_properties_df_corr = atomic_properties_df.corr()\n",
        "#Printing the co-relation matrix\n",
        "#print( atomic_properties_df_corr.head() )\n",
        "#Since we are interested in the propertie for the critical_temp only, we will be extracting that feature only\n",
        "critical_temp_df = atomic_properties_df_corr.loc[\"critical_temp\",:]\n",
        "#printing the critical_temp_df columns before dropping the critical_temp column\n",
        "print( critical_temp_df.head() )\n",
        "#Dropping the critical_temp column and seeing the co-relation values for other\n",
        "critical_temp_df = critical_temp_df.drop( index=[\"critical_temp\"] )\n",
        "#printing the columns after dropping the critical_temp column\n",
        "print( critical_temp_df.index)"
      ],
      "metadata": {
        "colab": {
          "base_uri": "https://localhost:8080/"
        },
        "id": "sdFhWoDMQFoR",
        "outputId": "6ddbf351-9b43-4b5d-f28e-fd4a0866bd3b"
      },
      "execution_count": 49,
      "outputs": [
        {
          "output_type": "stream",
          "name": "stdout",
          "text": [
            "number_of_elements       0.601069\n",
            "mean_atomic_mass        -0.113523\n",
            "wtd_mean_atomic_mass    -0.312272\n",
            "gmean_atomic_mass       -0.230345\n",
            "wtd_gmean_atomic_mass   -0.369858\n",
            "Name: critical_temp, dtype: float64\n",
            "Index(['number_of_elements', 'mean_atomic_mass', 'wtd_mean_atomic_mass',\n",
            "       'gmean_atomic_mass', 'wtd_gmean_atomic_mass', 'entropy_atomic_mass',\n",
            "       'wtd_entropy_atomic_mass', 'range_atomic_mass', 'wtd_range_atomic_mass',\n",
            "       'std_atomic_mass', 'wtd_std_atomic_mass', 'mean_fie', 'wtd_mean_fie',\n",
            "       'gmean_fie', 'wtd_gmean_fie', 'entropy_fie', 'wtd_entropy_fie',\n",
            "       'range_fie', 'wtd_range_fie', 'std_fie', 'wtd_std_fie',\n",
            "       'mean_atomic_radius', 'wtd_mean_atomic_radius', 'gmean_atomic_radius',\n",
            "       'wtd_gmean_atomic_radius', 'entropy_atomic_radius',\n",
            "       'wtd_entropy_atomic_radius', 'range_atomic_radius',\n",
            "       'wtd_range_atomic_radius', 'std_atomic_radius', 'wtd_std_atomic_radius',\n",
            "       'mean_Density', 'wtd_mean_Density', 'gmean_Density',\n",
            "       'wtd_gmean_Density', 'entropy_Density', 'wtd_entropy_Density',\n",
            "       'range_Density', 'wtd_range_Density', 'std_Density', 'wtd_std_Density',\n",
            "       'mean_ElectronAffinity', 'wtd_mean_ElectronAffinity',\n",
            "       'gmean_ElectronAffinity', 'wtd_gmean_ElectronAffinity',\n",
            "       'entropy_ElectronAffinity', 'wtd_entropy_ElectronAffinity',\n",
            "       'range_ElectronAffinity', 'wtd_range_ElectronAffinity',\n",
            "       'std_ElectronAffinity', 'wtd_std_ElectronAffinity', 'mean_FusionHeat',\n",
            "       'wtd_mean_FusionHeat', 'gmean_FusionHeat', 'wtd_gmean_FusionHeat',\n",
            "       'entropy_FusionHeat', 'wtd_entropy_FusionHeat', 'range_FusionHeat',\n",
            "       'wtd_range_FusionHeat', 'std_FusionHeat', 'wtd_std_FusionHeat',\n",
            "       'mean_ThermalConductivity', 'wtd_mean_ThermalConductivity',\n",
            "       'gmean_ThermalConductivity', 'wtd_gmean_ThermalConductivity',\n",
            "       'entropy_ThermalConductivity', 'wtd_entropy_ThermalConductivity',\n",
            "       'range_ThermalConductivity', 'wtd_range_ThermalConductivity',\n",
            "       'std_ThermalConductivity', 'wtd_std_ThermalConductivity',\n",
            "       'mean_Valence', 'wtd_mean_Valence', 'gmean_Valence',\n",
            "       'wtd_gmean_Valence', 'entropy_Valence', 'wtd_entropy_Valence',\n",
            "       'range_Valence', 'wtd_range_Valence', 'std_Valence', 'wtd_std_Valence'],\n",
            "      dtype='object')\n"
          ]
        }
      ]
    },
    {
      "cell_type": "code",
      "source": [
        "#Getting all the index names where the co-relation value is greater than 0\n",
        "properties_with_corelation_greater_than_zero = []\n",
        "for index in critical_temp_df.index:\n",
        "  if( critical_temp_df[index] > 0 ):\n",
        "    properties_with_corelation_greater_than_zero.append( index )\n",
        "\n",
        "#Printing all the indexes where the index value is greater than zero\n",
        "print( \"The index values where the co-relation is greater than zero\" )\n",
        "print( properties_with_corelation_greater_than_zero )\n",
        "print( \"The length of the total number of properties where the co-relation is greater than zero \" )\n",
        "print( len(properties_with_corelation_greater_than_zero ))\n",
        "#So, out of 82 properties, we have identified 44 properties which are having positive co-relation.\n",
        "properties_with_corelation_greater_than_zero.append( 'critical_temp' )"
      ],
      "metadata": {
        "colab": {
          "base_uri": "https://localhost:8080/"
        },
        "id": "7P3oupzkTW80",
        "outputId": "6d0a48d7-1892-44e0-ba99-79d732ff9329"
      },
      "execution_count": 50,
      "outputs": [
        {
          "output_type": "stream",
          "name": "stdout",
          "text": [
            "The index values where the co-relation is greater than zero\n",
            "['number_of_elements', 'entropy_atomic_mass', 'wtd_entropy_atomic_mass', 'range_atomic_mass', 'std_atomic_mass', 'wtd_std_atomic_mass', 'mean_fie', 'wtd_mean_fie', 'wtd_gmean_fie', 'entropy_fie', 'wtd_entropy_fie', 'range_fie', 'wtd_range_fie', 'std_fie', 'wtd_std_fie', 'mean_atomic_radius', 'entropy_atomic_radius', 'wtd_entropy_atomic_radius', 'range_atomic_radius', 'std_atomic_radius', 'wtd_std_atomic_radius', 'entropy_Density', 'wtd_entropy_Density', 'range_Density', 'std_Density', 'wtd_std_Density', 'wtd_mean_ElectronAffinity', 'entropy_ElectronAffinity', 'wtd_entropy_ElectronAffinity', 'range_ElectronAffinity', 'wtd_range_ElectronAffinity', 'std_ElectronAffinity', 'wtd_std_ElectronAffinity', 'entropy_FusionHeat', 'wtd_entropy_FusionHeat', 'mean_ThermalConductivity', 'wtd_mean_ThermalConductivity', 'entropy_ThermalConductivity', 'range_ThermalConductivity', 'wtd_range_ThermalConductivity', 'std_ThermalConductivity', 'wtd_std_ThermalConductivity', 'entropy_Valence', 'wtd_entropy_Valence']\n",
            "The length of the total number of properties where the co-relation is greater than zero \n",
            "44\n"
          ]
        }
      ]
    },
    {
      "cell_type": "code",
      "source": [
        "#It's important to identify which columns are having multi-collinearity or not, if having multi-collinearity, we can try to see if it can be removed\n",
        "#Filtering the dataframe to have those number of columns only\n",
        "atomic_properties_filtered = atomic_properties_df[ properties_with_corelation_greater_than_zero ]\n",
        "#Printing the columns of critical temp filtered head\n",
        "print( atomic_properties_filtered.info() )"
      ],
      "metadata": {
        "colab": {
          "base_uri": "https://localhost:8080/"
        },
        "id": "ju5Fap8lWd5Z",
        "outputId": "0b4ad204-6241-45ea-88c8-64abb4caa77b"
      },
      "execution_count": 51,
      "outputs": [
        {
          "output_type": "stream",
          "name": "stdout",
          "text": [
            "<class 'pandas.core.frame.DataFrame'>\n",
            "RangeIndex: 21263 entries, 0 to 21262\n",
            "Data columns (total 45 columns):\n",
            " #   Column                         Non-Null Count  Dtype  \n",
            "---  ------                         --------------  -----  \n",
            " 0   number_of_elements             21263 non-null  int64  \n",
            " 1   entropy_atomic_mass            21263 non-null  float64\n",
            " 2   wtd_entropy_atomic_mass        21263 non-null  float64\n",
            " 3   range_atomic_mass              21263 non-null  float64\n",
            " 4   std_atomic_mass                21263 non-null  float64\n",
            " 5   wtd_std_atomic_mass            21263 non-null  float64\n",
            " 6   mean_fie                       21263 non-null  float64\n",
            " 7   wtd_mean_fie                   21263 non-null  float64\n",
            " 8   wtd_gmean_fie                  21263 non-null  float64\n",
            " 9   entropy_fie                    21263 non-null  float64\n",
            " 10  wtd_entropy_fie                21263 non-null  float64\n",
            " 11  range_fie                      21263 non-null  float64\n",
            " 12  wtd_range_fie                  21263 non-null  float64\n",
            " 13  std_fie                        21263 non-null  float64\n",
            " 14  wtd_std_fie                    21263 non-null  float64\n",
            " 15  mean_atomic_radius             21263 non-null  float64\n",
            " 16  entropy_atomic_radius          21263 non-null  float64\n",
            " 17  wtd_entropy_atomic_radius      21263 non-null  float64\n",
            " 18  range_atomic_radius            21263 non-null  int64  \n",
            " 19  std_atomic_radius              21263 non-null  float64\n",
            " 20  wtd_std_atomic_radius          21263 non-null  float64\n",
            " 21  entropy_Density                21263 non-null  float64\n",
            " 22  wtd_entropy_Density            21263 non-null  float64\n",
            " 23  range_Density                  21263 non-null  float64\n",
            " 24  std_Density                    21263 non-null  float64\n",
            " 25  wtd_std_Density                21263 non-null  float64\n",
            " 26  wtd_mean_ElectronAffinity      21263 non-null  float64\n",
            " 27  entropy_ElectronAffinity       21263 non-null  float64\n",
            " 28  wtd_entropy_ElectronAffinity   21263 non-null  float64\n",
            " 29  range_ElectronAffinity         21263 non-null  float64\n",
            " 30  wtd_range_ElectronAffinity     21263 non-null  float64\n",
            " 31  std_ElectronAffinity           21263 non-null  float64\n",
            " 32  wtd_std_ElectronAffinity       21263 non-null  float64\n",
            " 33  entropy_FusionHeat             21263 non-null  float64\n",
            " 34  wtd_entropy_FusionHeat         21263 non-null  float64\n",
            " 35  mean_ThermalConductivity       21263 non-null  float64\n",
            " 36  wtd_mean_ThermalConductivity   21263 non-null  float64\n",
            " 37  entropy_ThermalConductivity    21263 non-null  float64\n",
            " 38  range_ThermalConductivity      21263 non-null  float64\n",
            " 39  wtd_range_ThermalConductivity  21263 non-null  float64\n",
            " 40  std_ThermalConductivity        21263 non-null  float64\n",
            " 41  wtd_std_ThermalConductivity    21263 non-null  float64\n",
            " 42  entropy_Valence                21263 non-null  float64\n",
            " 43  wtd_entropy_Valence            21263 non-null  float64\n",
            " 44  critical_temp                  21263 non-null  float64\n",
            "dtypes: float64(43), int64(2)\n",
            "memory usage: 7.3 MB\n",
            "None\n"
          ]
        }
      ]
    },
    {
      "cell_type": "code",
      "source": [
        "#Getting the VIF columns for the values\n",
        "atomic_properties_filtered_VIF = pd.DataFrame()\n",
        "atomic_properties_filtered_VIF[\"atomic_property\"] = atomic_properties_filtered.columns\n",
        "atomic_properties_filtered_VIF[\"VIF\"] = [variance_inflation_factor( atomic_properties_df_corr.values, i) for i in range( atomic_properties_filtered.shape[1] )]\n",
        "#Printing the VIF dataframe created\n",
        "atomic_properties_filtered_VIF[\"VIF\"] = atomic_properties_filtered_VIF.apply( lambda row : \"{:f}\".format( row[\"VIF\"] ), axis= 1)\n",
        "print( atomic_properties_filtered_VIF.head(5) )\n"
      ],
      "metadata": {
        "colab": {
          "base_uri": "https://localhost:8080/"
        },
        "id": "E0r81gmxYnDh",
        "outputId": "12438ad7-1d96-4add-d29a-8bf2b016b495"
      },
      "execution_count": 52,
      "outputs": [
        {
          "output_type": "stream",
          "name": "stdout",
          "text": [
            "           atomic_property              VIF\n",
            "0       number_of_elements   1119462.543833\n",
            "1      entropy_atomic_mass   9503478.324570\n",
            "2  wtd_entropy_atomic_mass  37457851.356224\n",
            "3        range_atomic_mass  14122719.032778\n",
            "4          std_atomic_mass  54366228.677268\n"
          ]
        }
      ]
    },
    {
      "cell_type": "markdown",
      "source": [
        "Since, the values were really high and it struck as odd, researching further pointed out a bug/design-flaw in the variance_inflation_librray of the statsmodel.\n",
        "\n",
        "https://github.com/statsmodels/statsmodels/issues/2376\n",
        "https://stackoverflow.com/questions/42658379/variance-inflation-factor-in-python"
      ],
      "metadata": {
        "id": "qbvdsD0bbYIp"
      }
    },
    {
      "cell_type": "code",
      "source": [
        "#Adding a constant column so that we can get the actual VIF factor as the VIF factor assumes a constant in the calculation\n",
        "#atomic_properties_filtered.loc[:,\"constant_column\"] = 1\n",
        "#Printing the column values\n",
        "atomic_properties_filtered_with_constant = add_constant( atomic_properties_filtered )\n",
        "#Printing the columns in the constant_columns\n",
        "print( atomic_properties_filtered_with_constant.info() )\n",
        "atomic_propeprties_multicollinear = pd.Series([variance_inflation_factor(  atomic_properties_filtered_with_constant.values, i)\n",
        "for i in range(  atomic_properties_filtered_with_constant.shape[1])],\n",
        "              index=atomic_properties_filtered_with_constant.columns)\n",
        "#Printing the series\n",
        "print( atomic_propeprties_multicollinear )"
      ],
      "metadata": {
        "colab": {
          "base_uri": "https://localhost:8080/"
        },
        "id": "dIVNuXgjbU4Q",
        "outputId": "078ccc82-62df-4620-ba3f-c1ccb9468129"
      },
      "execution_count": 57,
      "outputs": [
        {
          "output_type": "stream",
          "name": "stdout",
          "text": [
            "<class 'pandas.core.frame.DataFrame'>\n",
            "RangeIndex: 21263 entries, 0 to 21262\n",
            "Data columns (total 46 columns):\n",
            " #   Column                         Non-Null Count  Dtype  \n",
            "---  ------                         --------------  -----  \n",
            " 0   const                          21263 non-null  float64\n",
            " 1   number_of_elements             21263 non-null  int64  \n",
            " 2   entropy_atomic_mass            21263 non-null  float64\n",
            " 3   wtd_entropy_atomic_mass        21263 non-null  float64\n",
            " 4   range_atomic_mass              21263 non-null  float64\n",
            " 5   std_atomic_mass                21263 non-null  float64\n",
            " 6   wtd_std_atomic_mass            21263 non-null  float64\n",
            " 7   mean_fie                       21263 non-null  float64\n",
            " 8   wtd_mean_fie                   21263 non-null  float64\n",
            " 9   wtd_gmean_fie                  21263 non-null  float64\n",
            " 10  entropy_fie                    21263 non-null  float64\n",
            " 11  wtd_entropy_fie                21263 non-null  float64\n",
            " 12  range_fie                      21263 non-null  float64\n",
            " 13  wtd_range_fie                  21263 non-null  float64\n",
            " 14  std_fie                        21263 non-null  float64\n",
            " 15  wtd_std_fie                    21263 non-null  float64\n",
            " 16  mean_atomic_radius             21263 non-null  float64\n",
            " 17  entropy_atomic_radius          21263 non-null  float64\n",
            " 18  wtd_entropy_atomic_radius      21263 non-null  float64\n",
            " 19  range_atomic_radius            21263 non-null  int64  \n",
            " 20  std_atomic_radius              21263 non-null  float64\n",
            " 21  wtd_std_atomic_radius          21263 non-null  float64\n",
            " 22  entropy_Density                21263 non-null  float64\n",
            " 23  wtd_entropy_Density            21263 non-null  float64\n",
            " 24  range_Density                  21263 non-null  float64\n",
            " 25  std_Density                    21263 non-null  float64\n",
            " 26  wtd_std_Density                21263 non-null  float64\n",
            " 27  wtd_mean_ElectronAffinity      21263 non-null  float64\n",
            " 28  entropy_ElectronAffinity       21263 non-null  float64\n",
            " 29  wtd_entropy_ElectronAffinity   21263 non-null  float64\n",
            " 30  range_ElectronAffinity         21263 non-null  float64\n",
            " 31  wtd_range_ElectronAffinity     21263 non-null  float64\n",
            " 32  std_ElectronAffinity           21263 non-null  float64\n",
            " 33  wtd_std_ElectronAffinity       21263 non-null  float64\n",
            " 34  entropy_FusionHeat             21263 non-null  float64\n",
            " 35  wtd_entropy_FusionHeat         21263 non-null  float64\n",
            " 36  mean_ThermalConductivity       21263 non-null  float64\n",
            " 37  wtd_mean_ThermalConductivity   21263 non-null  float64\n",
            " 38  entropy_ThermalConductivity    21263 non-null  float64\n",
            " 39  range_ThermalConductivity      21263 non-null  float64\n",
            " 40  wtd_range_ThermalConductivity  21263 non-null  float64\n",
            " 41  std_ThermalConductivity        21263 non-null  float64\n",
            " 42  wtd_std_ThermalConductivity    21263 non-null  float64\n",
            " 43  entropy_Valence                21263 non-null  float64\n",
            " 44  wtd_entropy_Valence            21263 non-null  float64\n",
            " 45  critical_temp                  21263 non-null  float64\n",
            "dtypes: float64(44), int64(2)\n",
            "memory usage: 7.5 MB\n",
            "None\n",
            "const                            1025.959899\n",
            "number_of_elements                 68.271582\n",
            "entropy_atomic_mass               109.949324\n",
            "wtd_entropy_atomic_mass            66.429461\n",
            "range_atomic_mass                  49.181791\n",
            "std_atomic_mass                    56.420021\n",
            "wtd_std_atomic_mass                30.871388\n",
            "mean_fie                           17.403911\n",
            "wtd_mean_fie                     2336.070812\n",
            "wtd_gmean_fie                    1620.711518\n",
            "entropy_fie                      2299.808908\n",
            "wtd_entropy_fie                    86.458519\n",
            "range_fie                         227.502508\n",
            "wtd_range_fie                      23.125740\n",
            "std_fie                           201.440060\n",
            "wtd_std_fie                       168.516445\n",
            "mean_atomic_radius                  3.871407\n",
            "entropy_atomic_radius            1969.930253\n",
            "wtd_entropy_atomic_radius         108.785128\n",
            "range_atomic_radius               135.159484\n",
            "std_atomic_radius                 126.364645\n",
            "wtd_std_atomic_radius              63.019195\n",
            "entropy_Density                    51.164473\n",
            "wtd_entropy_Density                29.117163\n",
            "range_Density                      45.321744\n",
            "std_Density                        65.495736\n",
            "wtd_std_Density                    25.360572\n",
            "wtd_mean_ElectronAffinity           8.398802\n",
            "entropy_ElectronAffinity           32.091164\n",
            "wtd_entropy_ElectronAffinity       21.931022\n",
            "range_ElectronAffinity             59.977614\n",
            "wtd_range_ElectronAffinity         15.727583\n",
            "std_ElectronAffinity               76.673440\n",
            "wtd_std_ElectronAffinity           15.890282\n",
            "entropy_FusionHeat                 22.892108\n",
            "wtd_entropy_FusionHeat             16.708009\n",
            "mean_ThermalConductivity           18.804260\n",
            "wtd_mean_ThermalConductivity       28.649027\n",
            "entropy_ThermalConductivity        10.946511\n",
            "range_ThermalConductivity         254.180950\n",
            "wtd_range_ThermalConductivity      20.445918\n",
            "std_ThermalConductivity           233.052526\n",
            "wtd_std_ThermalConductivity        40.675887\n",
            "entropy_Valence                   179.352172\n",
            "wtd_entropy_Valence                60.393562\n",
            "critical_temp                       3.378497\n",
            "dtype: float64\n"
          ]
        }
      ]
    },
    {
      "cell_type": "code",
      "source": [
        "#Getting the value of the collinearity after dropping the values above 100 and seeing how it affects the collinearity value\n",
        "atomic_propeprties_multicollinear_required_index = [ index for index in atomic_propeprties_multicollinear.index if atomic_propeprties_multicollinear[ index ] <= 100 ]\n",
        "#Printing the length of the required index values\n",
        "print( len(atomic_propeprties_multicollinear_required_index) )\n",
        "#We see that the total_length_value dropped t0 31\n",
        "#Let's see how teh collinearity is affected now\n",
        "atomic_properties_df_filtered_second_phase = atomic_properties_filtered_with_constant[ atomic_propeprties_multicollinear_required_index ]\n",
        "#Adding the constant\n",
        "atomic_properties_df_filtered_second_phase = add_constant( atomic_properties_df_filtered_second_phase )\n",
        "atomic_propeprties_multicollinear = pd.Series([variance_inflation_factor(  atomic_properties_df_filtered_second_phase.values, i)\n",
        "for i in range(  atomic_properties_df_filtered_second_phase.shape[1])],\n",
        "              index=atomic_properties_df_filtered_second_phase.columns)\n",
        "#Printing the series\n",
        "print( atomic_propeprties_multicollinear )"
      ],
      "metadata": {
        "colab": {
          "base_uri": "https://localhost:8080/"
        },
        "id": "7T2VTipFlNTa",
        "outputId": "f8efa3c2-3d8a-42ed-ef36-6a69e2bec26f"
      },
      "execution_count": 61,
      "outputs": [
        {
          "output_type": "stream",
          "name": "stdout",
          "text": [
            "31\n",
            "const                            800.441472\n",
            "number_of_elements                26.289322\n",
            "wtd_entropy_atomic_mass           25.292907\n",
            "range_atomic_mass                 44.855070\n",
            "std_atomic_mass                   38.590266\n",
            "wtd_std_atomic_mass               22.900189\n",
            "mean_fie                           4.677650\n",
            "wtd_entropy_fie                   36.022640\n",
            "wtd_range_fie                     15.968395\n",
            "mean_atomic_radius                 3.110459\n",
            "wtd_std_atomic_radius              6.932198\n",
            "entropy_Density                   26.716855\n",
            "wtd_entropy_Density               18.969056\n",
            "range_Density                     42.406825\n",
            "std_Density                       61.594467\n",
            "wtd_std_Density                   20.923618\n",
            "wtd_mean_ElectronAffinity          7.522871\n",
            "entropy_ElectronAffinity          22.759503\n",
            "wtd_entropy_ElectronAffinity      19.852400\n",
            "range_ElectronAffinity            50.363263\n",
            "wtd_range_ElectronAffinity        15.179439\n",
            "std_ElectronAffinity              67.624735\n",
            "wtd_std_ElectronAffinity          12.098846\n",
            "entropy_FusionHeat                16.764430\n",
            "wtd_entropy_FusionHeat            13.180421\n",
            "mean_ThermalConductivity           8.297723\n",
            "wtd_mean_ThermalConductivity      19.980253\n",
            "entropy_ThermalConductivity        6.147812\n",
            "wtd_range_ThermalConductivity     16.795316\n",
            "wtd_std_ThermalConductivity       19.737798\n",
            "wtd_entropy_Valence               42.766692\n",
            "critical_temp                      3.125132\n",
            "dtype: float64\n"
          ]
        }
      ]
    },
    {
      "cell_type": "code",
      "source": [
        "#Taking only those index from the seconnd cycle whose VIF factor is less than 50\n",
        "properties_essential_for_third_phase = [ index for index in atomic_propeprties_multicollinear.index if atomic_propeprties_multicollinear[ index ] <=50 ]\n",
        "#Printing the length of the essential properties\n",
        "print( f\"The length of the essential properties is { len( properties_essential_for_third_phase ) }\" )\n",
        "#We can see that the properties have reduced to 28\n",
        "#Taking those properties only from the main dataframe\n",
        "atomic_properties_df_filtered_third_phase = atomic_properties_df[ properties_essential_for_third_phase ]\n",
        "#Adding the constant and then calculating the co-relation values\n",
        "#Adding the constant\n",
        "atomic_properties_df_filtered_third_phase = add_constant( atomic_properties_df_filtered_third_phase )\n",
        "atomic_propeprties_multicollinear = pd.Series([variance_inflation_factor(  atomic_properties_df_filtered_third_phase.values, i)\n",
        "for i in range(  atomic_properties_df_filtered_third_phase.shape[1])],\n",
        "              index=atomic_properties_df_filtered_third_phase.columns)\n",
        "#Printing the series\n",
        "print( atomic_propeprties_multicollinear )\n",
        "#Won't reduce any other properties after this as reducing any more features involve including losing the properties of Valence section as well. We will try to see the RMSE error that comes from this value and then\n",
        "#continue further."
      ],
      "metadata": {
        "colab": {
          "base_uri": "https://localhost:8080/"
        },
        "id": "jYq75wXtp1AL",
        "outputId": "ec351d90-d4cf-4897-a21e-ddf09d59f34a"
      },
      "execution_count": 66,
      "outputs": [
        {
          "output_type": "stream",
          "name": "stdout",
          "text": [
            "The length of the essential properties is 28\n",
            "const                            772.092252\n",
            "number_of_elements                22.801621\n",
            "wtd_entropy_atomic_mass           23.447467\n",
            "range_atomic_mass                 43.983955\n",
            "std_atomic_mass                   33.243984\n",
            "wtd_std_atomic_mass               20.344569\n",
            "mean_fie                           4.441361\n",
            "wtd_entropy_fie                   35.679912\n",
            "wtd_range_fie                     15.559966\n",
            "mean_atomic_radius                 3.078526\n",
            "wtd_std_atomic_radius              6.662701\n",
            "entropy_Density                   21.585231\n",
            "wtd_entropy_Density               17.025338\n",
            "range_Density                     12.623673\n",
            "wtd_std_Density                   14.067935\n",
            "wtd_mean_ElectronAffinity          7.432277\n",
            "entropy_ElectronAffinity          15.223059\n",
            "wtd_entropy_ElectronAffinity      13.480026\n",
            "wtd_range_ElectronAffinity        13.965008\n",
            "wtd_std_ElectronAffinity           4.142970\n",
            "entropy_FusionHeat                16.533714\n",
            "wtd_entropy_FusionHeat            13.062135\n",
            "mean_ThermalConductivity           8.059539\n",
            "wtd_mean_ThermalConductivity      19.372982\n",
            "entropy_ThermalConductivity        6.098330\n",
            "wtd_range_ThermalConductivity     16.163171\n",
            "wtd_std_ThermalConductivity       19.361933\n",
            "wtd_entropy_Valence               41.547627\n",
            "critical_temp                      3.031998\n",
            "dtype: float64\n"
          ]
        }
      ]
    },
    {
      "cell_type": "code",
      "source": [
        "#Extracting these features from the main dataframe and saving it in a csv file\n",
        "print( atomic_propeprties_multicollinear.index )\n",
        "#Dropping the const column\n",
        "atomic_propeprties_multicollinear = atomic_propeprties_multicollinear.loc[\"number_of_elements\":]\n",
        "#Printing the properties list after dropping the 'const'\n",
        "print( atomic_propeprties_multicollinear.index )\n",
        "#Extracting all the required columns from the index for the database\n",
        "atomic_properties_filtered = atomic_properties_df[ atomic_propeprties_multicollinear.index.tolist() ]\n",
        "#Printing the columns available in the filtered dataframe\n",
        "print( atomic_properties_filtered.info() )"
      ],
      "metadata": {
        "colab": {
          "base_uri": "https://localhost:8080/"
        },
        "id": "yYbIfZG34luP",
        "outputId": "db24fc3f-8d49-4b40-b133-a787e61dee5c"
      },
      "execution_count": 84,
      "outputs": [
        {
          "output_type": "stream",
          "name": "stdout",
          "text": [
            "Index(['number_of_elements', 'wtd_entropy_atomic_mass', 'range_atomic_mass',\n",
            "       'std_atomic_mass', 'wtd_std_atomic_mass', 'mean_fie', 'wtd_entropy_fie',\n",
            "       'wtd_range_fie', 'mean_atomic_radius', 'wtd_std_atomic_radius',\n",
            "       'entropy_Density', 'wtd_entropy_Density', 'range_Density',\n",
            "       'wtd_std_Density', 'wtd_mean_ElectronAffinity',\n",
            "       'entropy_ElectronAffinity', 'wtd_entropy_ElectronAffinity',\n",
            "       'wtd_range_ElectronAffinity', 'wtd_std_ElectronAffinity',\n",
            "       'entropy_FusionHeat', 'wtd_entropy_FusionHeat',\n",
            "       'mean_ThermalConductivity', 'wtd_mean_ThermalConductivity',\n",
            "       'entropy_ThermalConductivity', 'wtd_range_ThermalConductivity',\n",
            "       'wtd_std_ThermalConductivity', 'wtd_entropy_Valence', 'critical_temp'],\n",
            "      dtype='object')\n",
            "Index(['number_of_elements', 'wtd_entropy_atomic_mass', 'range_atomic_mass',\n",
            "       'std_atomic_mass', 'wtd_std_atomic_mass', 'mean_fie', 'wtd_entropy_fie',\n",
            "       'wtd_range_fie', 'mean_atomic_radius', 'wtd_std_atomic_radius',\n",
            "       'entropy_Density', 'wtd_entropy_Density', 'range_Density',\n",
            "       'wtd_std_Density', 'wtd_mean_ElectronAffinity',\n",
            "       'entropy_ElectronAffinity', 'wtd_entropy_ElectronAffinity',\n",
            "       'wtd_range_ElectronAffinity', 'wtd_std_ElectronAffinity',\n",
            "       'entropy_FusionHeat', 'wtd_entropy_FusionHeat',\n",
            "       'mean_ThermalConductivity', 'wtd_mean_ThermalConductivity',\n",
            "       'entropy_ThermalConductivity', 'wtd_range_ThermalConductivity',\n",
            "       'wtd_std_ThermalConductivity', 'wtd_entropy_Valence', 'critical_temp'],\n",
            "      dtype='object')\n",
            "<class 'pandas.core.frame.DataFrame'>\n",
            "RangeIndex: 21263 entries, 0 to 21262\n",
            "Data columns (total 28 columns):\n",
            " #   Column                         Non-Null Count  Dtype  \n",
            "---  ------                         --------------  -----  \n",
            " 0   number_of_elements             21263 non-null  int64  \n",
            " 1   wtd_entropy_atomic_mass        21263 non-null  float64\n",
            " 2   range_atomic_mass              21263 non-null  float64\n",
            " 3   std_atomic_mass                21263 non-null  float64\n",
            " 4   wtd_std_atomic_mass            21263 non-null  float64\n",
            " 5   mean_fie                       21263 non-null  float64\n",
            " 6   wtd_entropy_fie                21263 non-null  float64\n",
            " 7   wtd_range_fie                  21263 non-null  float64\n",
            " 8   mean_atomic_radius             21263 non-null  float64\n",
            " 9   wtd_std_atomic_radius          21263 non-null  float64\n",
            " 10  entropy_Density                21263 non-null  float64\n",
            " 11  wtd_entropy_Density            21263 non-null  float64\n",
            " 12  range_Density                  21263 non-null  float64\n",
            " 13  wtd_std_Density                21263 non-null  float64\n",
            " 14  wtd_mean_ElectronAffinity      21263 non-null  float64\n",
            " 15  entropy_ElectronAffinity       21263 non-null  float64\n",
            " 16  wtd_entropy_ElectronAffinity   21263 non-null  float64\n",
            " 17  wtd_range_ElectronAffinity     21263 non-null  float64\n",
            " 18  wtd_std_ElectronAffinity       21263 non-null  float64\n",
            " 19  entropy_FusionHeat             21263 non-null  float64\n",
            " 20  wtd_entropy_FusionHeat         21263 non-null  float64\n",
            " 21  mean_ThermalConductivity       21263 non-null  float64\n",
            " 22  wtd_mean_ThermalConductivity   21263 non-null  float64\n",
            " 23  entropy_ThermalConductivity    21263 non-null  float64\n",
            " 24  wtd_range_ThermalConductivity  21263 non-null  float64\n",
            " 25  wtd_std_ThermalConductivity    21263 non-null  float64\n",
            " 26  wtd_entropy_Valence            21263 non-null  float64\n",
            " 27  critical_temp                  21263 non-null  float64\n",
            "dtypes: float64(27), int64(1)\n",
            "memory usage: 4.5 MB\n",
            "None\n"
          ]
        }
      ]
    },
    {
      "cell_type": "code",
      "source": [
        "#Splitting the dataset into feature variables and response variable\n",
        "atomic_properties_filtered_X = atomic_properties_filtered.drop( columns=[\"critical_temp\"] )\n",
        "atomic_properties_filtered_y = atomic_properties_filtered[\"critical_temp\"]\n",
        "#printing the feature variable dataset and the response variable dataset\n",
        "print( \"The feature variable dataset is \" )\n",
        "print( atomic_properties_filtered_X.head() )\n",
        "print( \"The response variable dataset is \" )\n",
        "print( atomic_properties_filtered_y.head() )\n",
        "#Creating the train-test split\n",
        "atomic_properties_filtered_X_train, atomic_properties_filtered_X_test, atomic_properties_filtered_y_train, atomic_properties_filtered_y_test = train_test_split( atomic_properties_filtered_X,\n",
        "                                                                                                                                                                atomic_properties_filtered_y, test_size=0.33, random_state=42 )\n",
        "#Printing the shape of the training and testing dataset so as to ensure that everything is correct\n",
        "print( f\"The shape of the feature variable in the training dataset is {atomic_properties_filtered_X_train.shape}\" )\n",
        "print( f\"The shape of the response variable in the training dataset is {atomic_properties_filtered_y_train.shape}\")\n",
        "print( f\"The shape of the feature variable in the testing dataset is {atomic_properties_filtered_X_test.shape}\" )\n",
        "print( f\"The shape of the response variable in the testing dataset is {atomic_properties_filtered_y_test.shape}\")"
      ],
      "metadata": {
        "colab": {
          "base_uri": "https://localhost:8080/"
        },
        "id": "LTjGoYj-7i-W",
        "outputId": "8646d045-8eae-421d-bfc9-5d1a6ea9e0b0"
      },
      "execution_count": 89,
      "outputs": [
        {
          "output_type": "stream",
          "name": "stdout",
          "text": [
            "The feature variable dataset is \n",
            "   number_of_elements  wtd_entropy_atomic_mass  range_atomic_mass  \\\n",
            "0                   4                 1.062396          122.90607   \n",
            "1                   5                 1.057755          122.90607   \n",
            "2                   4                 0.975980          122.90607   \n",
            "3                   4                 1.022291          122.90607   \n",
            "4                   4                 1.129224          122.90607   \n",
            "\n",
            "   std_atomic_mass  wtd_std_atomic_mass  mean_fie  wtd_entropy_fie  \\\n",
            "0        51.968828            53.622535   775.425         0.791488   \n",
            "1        47.094633            53.979870   766.440         0.807078   \n",
            "2        51.968828            53.656268   775.425         0.773620   \n",
            "3        51.968828            53.639405   775.425         0.783207   \n",
            "4        51.968828            53.588771   775.425         0.805230   \n",
            "\n",
            "   wtd_range_fie  mean_atomic_radius  wtd_std_atomic_radius  ...  \\\n",
            "0     735.985714              160.25              69.235569  ...   \n",
            "1     743.164286              161.20              68.008817  ...   \n",
            "2     743.164286              160.25              67.797712  ...   \n",
            "3     739.575000              160.25              68.521665  ...   \n",
            "4     728.807143              160.25              70.634448  ...   \n",
            "\n",
            "   wtd_range_ElectronAffinity  wtd_std_ElectronAffinity  entropy_FusionHeat  \\\n",
            "0                   80.987143                 42.558396            1.088575   \n",
            "1                   81.207857                 41.667621            1.374977   \n",
            "2                   81.207857                 41.639878            1.088575   \n",
            "3                   81.097500                 42.102344            1.088575   \n",
            "4                   80.766429                 43.452059            1.088575   \n",
            "\n",
            "   wtd_entropy_FusionHeat  mean_ThermalConductivity  \\\n",
            "0                0.994998                107.756645   \n",
            "1                1.073094                172.205316   \n",
            "2                0.927479                107.756645   \n",
            "3                0.964031                107.756645   \n",
            "4                1.044970                107.756645   \n",
            "\n",
            "   wtd_mean_ThermalConductivity  entropy_ThermalConductivity  \\\n",
            "0                     61.015189                     0.308148   \n",
            "1                     61.372331                     0.847404   \n",
            "2                     60.943760                     0.308148   \n",
            "3                     60.979474                     0.308148   \n",
            "4                     61.086617                     0.308148   \n",
            "\n",
            "   wtd_range_ThermalConductivity  wtd_std_ThermalConductivity  \\\n",
            "0                      57.127669                   138.517163   \n",
            "1                      51.413383                   139.630922   \n",
            "2                      57.127669                   138.540613   \n",
            "3                      57.127669                   138.528893   \n",
            "4                      57.127669                   138.493671   \n",
            "\n",
            "   wtd_entropy_Valence  \n",
            "0             1.066221  \n",
            "1             1.047221  \n",
            "2             1.029175  \n",
            "3             1.048834  \n",
            "4             1.096052  \n",
            "\n",
            "[5 rows x 27 columns]\n",
            "The response variable dataset is \n",
            "0    29.0\n",
            "1    26.0\n",
            "2    19.0\n",
            "3    22.0\n",
            "4    23.0\n",
            "Name: critical_temp, dtype: float64\n",
            "The shape of the feature variable in the training dataset is (14246, 27)\n",
            "The shape of the response variable in the training dataset is (14246,)\n",
            "The shape of the feature variable in the testing dataset is (7017, 27)\n",
            "The shape of the response variable in the testing dataset is (7017,)\n"
          ]
        }
      ]
    },
    {
      "cell_type": "code",
      "source": [
        "#Fitting the model on the Linear Regression and trying to get the RMSE score on the test dataset\n",
        "linearRegressionModel = LinearRegression()\n",
        "#Training the model\n",
        "linearRegressionModel.fit( atomic_properties_filtered_X_train, atomic_properties_filtered_y_train )\n",
        "#Getting the predictions\n",
        "linearModelPredictions = linearRegressionModel.predict( atomic_properties_filtered_X_test )\n",
        "#Getting the RMSE scores\n",
        "mean_squared_error_values = metrics.mean_squared_error( linearModelPredictions, atomic_properties_filtered_y_test, squared= False )\n",
        "#Converting the RMSE values to a dataframe\n",
        "#mean_squared_error_values_df = pd.DataFrame( mean_squared_error_values, columns=[\"error_value\"] )\n",
        "#Printing the dataframe\n",
        "print( mean_squared_error_values )"
      ],
      "metadata": {
        "colab": {
          "base_uri": "https://localhost:8080/"
        },
        "id": "6qarLtHw_CJp",
        "outputId": "b714f014-e6b7-4d0e-d4c1-3b10d87e1a2e"
      },
      "execution_count": 96,
      "outputs": [
        {
          "output_type": "stream",
          "name": "stdout",
          "text": [
            "19.694334030113463\n"
          ]
        }
      ]
    },
    {
      "cell_type": "code",
      "source": [
        "#printing column names with atomic mass only\n",
        "for column in atomic_properties_df.columns:\n",
        "  if( 'atomic_mass' in column ):\n",
        "    print( column )"
      ],
      "metadata": {
        "colab": {
          "base_uri": "https://localhost:8080/"
        },
        "id": "D7oVROlqOBud",
        "outputId": "9521e965-8e40-4497-9b89-df459e594ef6"
      },
      "execution_count": 54,
      "outputs": [
        {
          "output_type": "stream",
          "name": "stdout",
          "text": [
            "mean_atomic_mass\n",
            "wtd_mean_atomic_mass\n",
            "gmean_atomic_mass\n",
            "wtd_gmean_atomic_mass\n",
            "entropy_atomic_mass\n",
            "wtd_entropy_atomic_mass\n",
            "range_atomic_mass\n",
            "wtd_range_atomic_mass\n",
            "std_atomic_mass\n",
            "wtd_std_atomic_mass\n"
          ]
        }
      ]
    }
  ]
}